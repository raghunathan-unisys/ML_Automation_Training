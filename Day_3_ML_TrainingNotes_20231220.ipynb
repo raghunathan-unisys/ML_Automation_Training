{
  "nbformat": 4,
  "nbformat_minor": 0,
  "metadata": {
    "colab": {
      "provenance": [],
      "authorship_tag": "ABX9TyP6MsuUh9E472iA0LlpCQgt",
      "include_colab_link": true
    },
    "kernelspec": {
      "name": "python3",
      "display_name": "Python 3"
    },
    "language_info": {
      "name": "python"
    }
  },
  "cells": [
    {
      "cell_type": "markdown",
      "metadata": {
        "id": "view-in-github",
        "colab_type": "text"
      },
      "source": [
        "<a href=\"https://colab.research.google.com/github/raghunathan-unisys/ML_Automation_Training/blob/Training-Notes/Day_3_ML_TrainingNotes_20231220.ipynb\" target=\"_parent\"><img src=\"https://colab.research.google.com/assets/colab-badge.svg\" alt=\"Open In Colab\"/></a>"
      ]
    },
    {
      "cell_type": "markdown",
      "source": [
        "# ML Models Continued\n"
      ],
      "metadata": {
        "id": "ukuGKvcHh2lZ"
      }
    },
    {
      "cell_type": "code",
      "execution_count": 1,
      "metadata": {
        "id": "Fqp18WtNhwV3"
      },
      "outputs": [],
      "source": [
        "# Logestic Regression Model\n",
        "\n",
        "import numpy as np\n",
        "import pandas as pd\n",
        "from sklearn.linear_model import LogisticRegression"
      ]
    },
    {
      "cell_type": "code",
      "source": [
        "data = {'Hlength': [150, 120, 175, 110, 95],\n",
        "        'Weight': [75, 100, 50, 85, 72],\n",
        "        'Gender': ['Female', 'Male', 'Female', 'Male', 'Male']\n",
        "        }\n",
        "\n",
        "df = pd.DataFrame(data, columns=['Hlength', 'Weight', 'Gender'])\n",
        "\n",
        "# Getting the Dependent variables Y and the Independent variables X\n",
        "X = df[['Hlength', 'Weight']]\n",
        "Y = df['Gender']\n",
        "\n",
        "# Fitting the data into the Logistic Regression model\n",
        "reger = LogisticRegression()\n",
        "reger.fit(X, Y)\n",
        "\n",
        "hlength = int(input(\"Enter Hair Length: \"))\n",
        "weight = int(input(\"Enter your Weight: \"))\n",
        "x = [[hlength, weight]]\n",
        "y = reger.predict(x)\n",
        "print('Predicted Hlength is ',y)"
      ],
      "metadata": {
        "colab": {
          "base_uri": "https://localhost:8080/"
        },
        "id": "WqMZKJhQqNao",
        "outputId": "10b9e124-178c-4593-f6b6-e8407a64dda5"
      },
      "execution_count": 4,
      "outputs": [
        {
          "output_type": "stream",
          "name": "stdout",
          "text": [
            "Enter Hair Length: 150\n",
            "Enter your Weight: 100\n",
            "Predicted Hlength is  ['Female']\n"
          ]
        },
        {
          "output_type": "stream",
          "name": "stderr",
          "text": [
            "/usr/local/lib/python3.10/dist-packages/sklearn/base.py:439: UserWarning: X does not have valid feature names, but LogisticRegression was fitted with feature names\n",
            "  warnings.warn(\n"
          ]
        }
      ]
    },
    {
      "cell_type": "markdown",
      "source": [
        "## Logistic Regression Example with Sample Dataset"
      ],
      "metadata": {
        "id": "vpdqeWduthcN"
      }
    },
    {
      "cell_type": "code",
      "source": [
        "import pandas as pd\n",
        "import numpy as np\n",
        "import matplotlib.pyplot as plt\n",
        "import seaborn as sns\n",
        "\n",
        "\n",
        "# load dataset\n",
        "pima = pd.read_csv(\"/content/diabetes.csv\")\n",
        "\n",
        "\n",
        "#split dataset in features and target variable\n",
        "feature_cols = ['Pregnancies', 'Insulin', 'BMI', 'Age','Glucose','BloodPressure']\n",
        "X = pima[feature_cols] # Features\n",
        "y = pima['Outcome'] # Target variable\n",
        "\n",
        "\n",
        "# split X and y into training and testing sets\n",
        "from sklearn.model_selection import train_test_split\n",
        "X_train,X_test,y_train,y_test=train_test_split(X,y,test_size=0.25,random_state=25)\n",
        "\n",
        "\n",
        "# import the class\n",
        "from sklearn.linear_model import LogisticRegression\n",
        "\n",
        "\n",
        "# instantiate the model (using the default parameters)\n",
        "logreg = LogisticRegression()\n",
        "\n",
        "\n",
        "# fit the model with data\n",
        "logreg.fit(X_train,y_train)\n",
        "y_pred=logreg.predict(X_test)\n",
        "\n",
        "\n",
        "# import the metrics class\n",
        "from sklearn import metrics\n",
        "cnf_matrix = metrics.confusion_matrix(y_test, y_pred)\n",
        "print(cnf_matrix)\n",
        "\n",
        "\n",
        "print(\"Accuracy:\",metrics.accuracy_score(y_test, y_pred))"
      ],
      "metadata": {
        "colab": {
          "base_uri": "https://localhost:8080/"
        },
        "id": "-mJL_y-Otoqe",
        "outputId": "7622a8ec-0cef-477a-da70-a6a90a0fa3fa"
      },
      "execution_count": 5,
      "outputs": [
        {
          "output_type": "stream",
          "name": "stdout",
          "text": [
            "[[112  18]\n",
            " [ 25  37]]\n",
            "Accuracy: 0.7760416666666666\n"
          ]
        }
      ]
    },
    {
      "cell_type": "markdown",
      "source": [
        "# Question - Using Logistic Regression\n"
      ],
      "metadata": {
        "id": "H3JeHN4d1rgQ"
      }
    },
    {
      "cell_type": "code",
      "source": [
        "import pandas as pd\n",
        "import numpy as np\n",
        "import matplotlib.pyplot as plt\n",
        "import seaborn as sns\n",
        "\n",
        "\n",
        "df = pd.read_csv(\"/content/Flipkart.csv\", encoding=\"unicode_escape\")\n",
        "df.info()"
      ],
      "metadata": {
        "colab": {
          "base_uri": "https://localhost:8080/"
        },
        "id": "4A-ZWLlR2DHF",
        "outputId": "c22cb973-c3fc-4bba-c911-8e2a3016c22f"
      },
      "execution_count": 14,
      "outputs": [
        {
          "output_type": "stream",
          "name": "stdout",
          "text": [
            "<class 'pandas.core.frame.DataFrame'>\n",
            "RangeIndex: 1952 entries, 0 to 1951\n",
            "Data columns (total 25 columns):\n",
            " #   Column                Non-Null Count  Dtype  \n",
            "---  ------                --------------  -----  \n",
            " 0   Row ID                1952 non-null   int64  \n",
            " 1   Order Priority        1952 non-null   object \n",
            " 2   Discount              1952 non-null   float64\n",
            " 3   Unit Price            1952 non-null   float64\n",
            " 4   Shipping Cost         1952 non-null   float64\n",
            " 5   Customer ID           1952 non-null   int64  \n",
            " 6   Customer Name         1952 non-null   object \n",
            " 7   Ship Mode             1952 non-null   object \n",
            " 8   Customer Segment      1952 non-null   object \n",
            " 9   Product Category      1952 non-null   object \n",
            " 10  Product Sub-Category  1952 non-null   object \n",
            " 11  Product Container     1952 non-null   object \n",
            " 12  Product Name          1952 non-null   object \n",
            " 13  Product Base Margin   1936 non-null   float64\n",
            " 14  Country               1952 non-null   object \n",
            " 15  Region                1952 non-null   object \n",
            " 16  State or Province     1952 non-null   object \n",
            " 17  City                  1952 non-null   object \n",
            " 18  Postal Code           1952 non-null   int64  \n",
            " 19  Order Date            1952 non-null   object \n",
            " 20  Ship Date             1952 non-null   object \n",
            " 21  Profit                1952 non-null   float64\n",
            " 22  Quantity ordered new  1952 non-null   int64  \n",
            " 23  Sales                 1952 non-null   float64\n",
            " 24  Order ID              1952 non-null   int64  \n",
            "dtypes: float64(6), int64(5), object(14)\n",
            "memory usage: 381.4+ KB\n"
          ]
        }
      ]
    },
    {
      "cell_type": "code",
      "source": [
        "# Creating a Logistic Regression model\n",
        "\n",
        "X = df[['Sales', 'Discount']]\n",
        "y = df['Ship Mode']\n",
        "\n",
        "# Spliting to Train and Test split\n",
        "X_train, X_test, y_train, y_test = train_test_split(X, y, test_size=0.2, random_state=42)\n",
        "\n",
        "# Training the Model\n",
        "model = LogisticRegression()\n",
        "model.fit(X_train, y_train)\n",
        "y_pred = model.predict(X_test)\n",
        "\n",
        "# Printing the metrices\n",
        "from sklearn import metrics\n",
        "cnf_matrix = metrics.confusion_matrix(y_test, y_pred)\n",
        "print(\"Confusion matrix:\\n\", cnf_matrix)\n",
        "\n",
        "\n",
        "print(\"Accuracy:\", metrics.accuracy_score(y_test, y_pred))"
      ],
      "metadata": {
        "colab": {
          "base_uri": "https://localhost:8080/"
        },
        "id": "LCJav59V2SFy",
        "outputId": "e4d9c693-763e-4b26-dc8c-cbca9013f2d2"
      },
      "execution_count": 19,
      "outputs": [
        {
          "output_type": "stream",
          "name": "stdout",
          "text": [
            "Confusion matrix:\n",
            " [[  2   0  50]\n",
            " [  0   0  45]\n",
            " [  2   0 292]]\n",
            "Accuracy: 0.7519181585677749\n"
          ]
        }
      ]
    },
    {
      "cell_type": "markdown",
      "source": [
        "# Decision Tree"
      ],
      "metadata": {
        "id": "j2yjXA_6BzdZ"
      }
    },
    {
      "cell_type": "code",
      "source": [
        "from sklearn.model_selection import train_test_split\n",
        "from sklearn.tree import DecisionTreeClassifier\n",
        "from sklearn.metrics import accuracy_score\n",
        "from sklearn import tree\n",
        "from sklearn.preprocessing import LabelEncoder\n",
        "\n",
        "\n",
        "import pandas as pd\n",
        "import numpy as np\n",
        "\n",
        "\n",
        "df = pd.read_csv('/content/dtdb.csv')\n",
        "\n",
        "\n",
        "lb = LabelEncoder()\n",
        "df['outlook_'] = lb.fit_transform(df['outlook'])\n",
        "df['temp_'] = lb.fit_transform(df['temp'] )\n",
        "df['humidity_'] = lb.fit_transform(df['humidity'] )\n",
        "df['windy_'] = lb.fit_transform(df['windy'] )\n",
        "df['play_'] = lb.fit_transform(df['play'] )\n",
        "X = df.iloc[:,5:9]\n",
        "Y = df.iloc[:,9]\n",
        "\n",
        "\n",
        "X_train, X_test , y_train,y_test = train_test_split(X, Y, test_size = 0.25, random_state = 100)\n",
        "\n",
        "\n",
        "clf_entropy = DecisionTreeClassifier(criterion='entropy')\n",
        "clf_entropy.fit(X_train.astype(int),y_train.astype(int))\n",
        "y_pred_en = clf_entropy.predict(X_test)\n",
        "\n",
        "\n",
        "print(\"Accuracy is :{0}\".format(accuracy_score(y_test.astype(int),y_pred_en) * 100))"
      ],
      "metadata": {
        "colab": {
          "base_uri": "https://localhost:8080/"
        },
        "id": "Zy01eXQqBzO7",
        "outputId": "3d3597a8-52c0-459f-d4c1-b5608b0b3ba5"
      },
      "execution_count": 21,
      "outputs": [
        {
          "output_type": "stream",
          "name": "stdout",
          "text": [
            "Accuracy is :50.0\n"
          ]
        }
      ]
    },
    {
      "cell_type": "markdown",
      "source": [
        "## Example: Decision Tree with imporoved accuracy\n"
      ],
      "metadata": {
        "id": "RqA1T7AjOoD3"
      }
    },
    {
      "cell_type": "code",
      "source": [
        "col_names = ['pregnant', 'glucose', 'bp', 'skin', 'insulin', 'bmi', 'pedigree', 'age', 'label']\n",
        "\n",
        "\n",
        "# load dataset\n",
        "pima = pd.read_csv(\"D_ABC.csv\", header=1, names=col_names)\n",
        "\n",
        "\n",
        "#split dataset in features and target variable\n",
        "feature_cols = ['pregnant', 'insulin', 'bmi', 'age','glucose','bp','pedigree']\n",
        "X = pima[feature_cols] # Features\n",
        "y = pima.label # Target variable\n",
        "\n",
        "\n",
        "# split X and y into training and testing sets\n",
        "from sklearn.model_selection import train_test_split\n",
        "\n",
        "\n",
        "# 25% testing, 75% training\n",
        "X_train,X_test,y_train,y_test=train_test_split(X,y,test_size=0.25,random_state=0)\n",
        "\n",
        "\n",
        "#Import Random Forest Model\n",
        "from sklearn.ensemble import RandomForestClassifier\n",
        "\n",
        "\n",
        "#Create a Gaussian Classifier\n",
        "clf=RandomForestClassifier()\n",
        "\n",
        "\n",
        "#Train the model using the training sets y_pred=clf.predict(X_test)\n",
        "clf.fit(X_train,y_train)\n",
        "\n",
        "\n",
        "y_pred=clf.predict(X_test)\n",
        "#############################################\n",
        "\n",
        "\n",
        "#Import scikit-learn metrics module for accuracy calculation\n",
        "from sklearn import metrics\n",
        "# Model Accuracy, how often is the classifier correct?\n",
        "print(\"Accuracy of RF:\",metrics.accuracy_score(y_test, y_pred))\n",
        "\n",
        "\n",
        "from sklearn import tree\n",
        "clf1 = tree.DecisionTreeClassifier()\n",
        "\n",
        "\n",
        "#Train the model using the training sets y_pred=clf.predict(X_test)\n",
        "clf1.fit(X_train,y_train)\n",
        "\n",
        "\n",
        "y_pred=clf1.predict(X_test)\n",
        "#############################################\n",
        "\n",
        "\n",
        "#Import scikit-learn metrics module for accuracy calculation\n",
        "from sklearn import metrics\n",
        "# Model Accuracy, how often is the classifier correct?\n",
        "print(\"Accuracy of Decision Tree:\",metrics.accuracy_score(y_test, y_pred))"
      ],
      "metadata": {
        "colab": {
          "base_uri": "https://localhost:8080/"
        },
        "id": "q8hCh6wrOtkM",
        "outputId": "aada545d-7dde-4392-cc9e-f39e23559a87"
      },
      "execution_count": 22,
      "outputs": [
        {
          "output_type": "stream",
          "name": "stdout",
          "text": [
            "Accuracy of RF: 0.8072916666666666\n",
            "Accuracy of Decision Tree: 0.734375\n"
          ]
        }
      ]
    },
    {
      "cell_type": "markdown",
      "source": [
        "# Neural Networks"
      ],
      "metadata": {
        "id": "JPuN6FbNnLTS"
      }
    },
    {
      "cell_type": "markdown",
      "source": [
        "# PCA Principle Component Analysis"
      ],
      "metadata": {
        "id": "VcRINegZAWbF"
      }
    },
    {
      "cell_type": "markdown",
      "source": [
        "# SVM Support Vector Machines"
      ],
      "metadata": {
        "id": "FBCtFvPlG3To"
      }
    },
    {
      "cell_type": "code",
      "source": [],
      "metadata": {
        "id": "lkyLrQCSAWA0"
      },
      "execution_count": null,
      "outputs": []
    }
  ]
}